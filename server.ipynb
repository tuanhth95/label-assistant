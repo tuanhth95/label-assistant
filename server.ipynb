{
 "cells": [
  {
   "cell_type": "code",
   "execution_count": null,
   "id": "cfc42e3c",
   "metadata": {},
   "outputs": [
    {
     "name": "stderr",
     "output_type": "stream",
     "text": [
      "2025-07-01 05:26:46,621 - INFO - server listening on 0.0.0.0:8765\n",
      "2025-07-01 05:26:46,621 - INFO - 🚀 WebSocket server started on ws://0.0.0.0:8765\n",
      "2025-07-01 05:26:46,622 - INFO - 🛑 To stop the server, interrupt the kernel.\n",
      "2025-07-01 05:34:39,304 - INFO - connection open\n",
      "2025-07-01 05:34:39,306 - ERROR - connection handler failed\n",
      "Traceback (most recent call last):\n",
      "  File \"/data/npl/ActiveLearning/conda/envs/al/lib/python3.9/site-packages/websockets/asyncio/server.py\", line 376, in conn_handler\n",
      "    await self.handler(connection)\n",
      "TypeError: handler() missing 1 required positional argument: 'path'\n"
     ]
    }
   ],
   "source": [
    "import asyncio\n",
    "import websockets\n",
    "import json\n",
    "import logging\n",
    "import nest_asyncio\n",
    "\n",
    "# Áp dụng patch để cho phép asyncio lồng nhau\n",
    "nest_asyncio.apply()\n",
    "\n",
    "# Cấu hình logging để xem log trực tiếp trong output của cell\n",
    "logging.basicConfig(level=logging.INFO, format='%(asctime)s - %(levelname)s - %(message)s')\n",
    "\n",
    "# Dữ liệu mẫu\n",
    "SAMPLE_DATA = [\n",
    "    \"Machine learning is a subset of artificial intelligence.\",\n",
    "    \"The NVIDIA A100 is a powerful GPU for deep learning tasks.\",\n",
    "    \"VS Code extensions enhance developer productivity.\",\n",
    "    \"WebSockets enable real-time, two-way communication.\"\n",
    "]\n",
    "current_data_index = 0\n",
    "\n",
    "async def handler(websocket):\n",
    "    \"\"\"Xử lý kết nối WebSocket đến.\"\"\"\n",
    "    global current_data_index\n",
    "    logging.info(f\"✅ Client connected from: {websocket.remote_address}\")\n",
    "    print(f\"✅ Client connected from: {websocket.remote_address}\")\n",
    "    \n",
    "    try:\n",
    "        async for message in websocket:\n",
    "            logging.info(f\"⬅️ Received from client: {message}\")\n",
    "            command = json.loads(message)\n",
    "            \n",
    "            # Xử lý các lệnh từ client... (logic giữ nguyên)\n",
    "            if command.get(\"action\") == \"get_data\":\n",
    "                if current_data_index < len(SAMPLE_DATA):\n",
    "                    data_to_send = SAMPLE_DATA[current_data_index]\n",
    "                    response = {\"type\": \"data\", \"payload\": data_to_send}\n",
    "                    await websocket.send(json.dumps(response))\n",
    "                    logging.info(f\"➡️ Sent to client: '{data_to_send}'\")\n",
    "                    current_data_index += 1\n",
    "                else:\n",
    "                    await websocket.send(json.dumps({\"type\": \"status\", \"payload\": \"No more data.\"}))\n",
    "            elif command.get(\"action\") == \"submit_label\":\n",
    "                labeled_data = command.get(\"data\")\n",
    "                logging.info(f\"✅ Received labeled data: {labeled_data}\")\n",
    "                await websocket.send(json.dumps({\"type\": \"status\", \"payload\": \"Label received!\"}))\n",
    "\n",
    "    except websockets.exceptions.ConnectionClosed:\n",
    "        logging.info(\"❌ Client disconnected.\")\n",
    "    finally:\n",
    "        current_data_index = 0\n",
    "\n",
    "async def main():\n",
    "    \"\"\"Khởi động WebSocket server.\"\"\"\n",
    "    # Lắng nghe trên tất cả các giao diện mạng ở cổng 8765\n",
    "    async with websockets.serve(handler, \"0.0.0.0\", 8765):\n",
    "        logging.info(\"🚀 WebSocket server started on ws://0.0.0.0:8765\")\n",
    "        logging.info(\"🛑 To stop the server, interrupt the kernel.\")\n",
    "        await asyncio.Future()  # Chạy mãi mãi\n",
    "\n",
    "# Chạy vòng lặp sự kiện chính\n",
    "try:\n",
    "    asyncio.run(main())\n",
    "except KeyboardInterrupt:\n",
    "    logging.info(\"🛑 Server stopped.\")"
   ]
  },
  {
   "cell_type": "code",
   "execution_count": null,
   "id": "3450bccd",
   "metadata": {},
   "outputs": [],
   "source": []
  }
 ],
 "metadata": {
  "kernelspec": {
   "display_name": "al",
   "language": "python",
   "name": "python3"
  },
  "language_info": {
   "codemirror_mode": {
    "name": "ipython",
    "version": 3
   },
   "file_extension": ".py",
   "mimetype": "text/x-python",
   "name": "python",
   "nbconvert_exporter": "python",
   "pygments_lexer": "ipython3",
   "version": "3.9.23"
  }
 },
 "nbformat": 4,
 "nbformat_minor": 5
}
